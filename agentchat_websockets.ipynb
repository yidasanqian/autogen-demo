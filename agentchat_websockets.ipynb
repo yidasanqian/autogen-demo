{
 "cells": [
  {
   "cell_type": "code",
   "execution_count": 4,
   "metadata": {},
   "outputs": [
    {
     "name": "stdout",
     "output_type": "stream",
     "text": [
      "Looking in indexes: https://pypi.tuna.tsinghua.edu.cn/simple\n",
      "Requirement already satisfied: fastapi in d:\\programdata\\miniconda3\\python312\\site-packages (0.110.0)\n",
      "Requirement already satisfied: uvicorn in d:\\programdata\\miniconda3\\python312\\site-packages (0.28.0)\n",
      "Requirement already satisfied: pyautogen[websockets] in d:\\develop\\conda\\envs\\autogen-demo\\lib\\site-packages (0.2.25)\n",
      "Requirement already satisfied: diskcache in d:\\develop\\conda\\envs\\autogen-demo\\lib\\site-packages (from pyautogen[websockets]) (5.6.3)\n",
      "Requirement already satisfied: docker in d:\\develop\\conda\\envs\\autogen-demo\\lib\\site-packages (from pyautogen[websockets]) (7.0.0)\n",
      "Requirement already satisfied: flaml in d:\\develop\\conda\\envs\\autogen-demo\\lib\\site-packages (from pyautogen[websockets]) (2.1.2)\n",
      "Requirement already satisfied: numpy<2,>=1.17.0 in d:\\programdata\\miniconda3\\python312\\site-packages (from pyautogen[websockets]) (1.26.4)\n",
      "Requirement already satisfied: openai>=1.3 in d:\\develop\\conda\\envs\\autogen-demo\\lib\\site-packages (from pyautogen[websockets]) (1.21.2)\n",
      "Requirement already satisfied: pydantic!=2.6.0,<3,>=1.10 in d:\\programdata\\miniconda3\\python312\\site-packages (from pyautogen[websockets]) (2.6.4)\n",
      "Requirement already satisfied: python-dotenv in d:\\develop\\conda\\envs\\autogen-demo\\lib\\site-packages (from pyautogen[websockets]) (1.0.1)\n",
      "Requirement already satisfied: termcolor in d:\\develop\\conda\\envs\\autogen-demo\\lib\\site-packages (from pyautogen[websockets]) (2.4.0)\n",
      "Requirement already satisfied: tiktoken in d:\\develop\\conda\\envs\\autogen-demo\\lib\\site-packages (from pyautogen[websockets]) (0.6.0)\n",
      "Collecting websockets<13,>=12.0 (from pyautogen[websockets])\n",
      "  Downloading https://pypi.tuna.tsinghua.edu.cn/packages/20/52/8915f51f9aaef4e4361c89dd6cf69f72a0159f14e0d25026c81b6ad22525/websockets-12.0-cp312-cp312-win_amd64.whl (124 kB)\n",
      "     ---------------------------------------- 0.0/125.0 kB ? eta -:--:--\n",
      "     --------- --------------------------- 30.7/125.0 kB 660.6 kB/s eta 0:00:01\n",
      "     ------------------ ------------------ 61.4/125.0 kB 825.8 kB/s eta 0:00:01\n",
      "     --------------------------- --------- 92.2/125.0 kB 655.4 kB/s eta 0:00:01\n",
      "     ------------------------------------ 125.0/125.0 kB 735.5 kB/s eta 0:00:00\n",
      "Requirement already satisfied: starlette<0.37.0,>=0.36.3 in d:\\programdata\\miniconda3\\python312\\site-packages (from fastapi) (0.36.3)\n",
      "Requirement already satisfied: typing-extensions>=4.8.0 in d:\\programdata\\miniconda3\\python312\\site-packages (from fastapi) (4.10.0)\n",
      "Requirement already satisfied: click>=7.0 in d:\\programdata\\miniconda3\\python312\\site-packages (from uvicorn) (8.1.7)\n",
      "Requirement already satisfied: h11>=0.8 in d:\\programdata\\miniconda3\\python312\\site-packages (from uvicorn) (0.14.0)\n",
      "Requirement already satisfied: colorama in d:\\programdata\\miniconda3\\python312\\site-packages (from click>=7.0->uvicorn) (0.4.6)\n",
      "Requirement already satisfied: anyio<5,>=3.5.0 in d:\\programdata\\miniconda3\\python312\\site-packages (from openai>=1.3->pyautogen[websockets]) (4.3.0)\n",
      "Requirement already satisfied: distro<2,>=1.7.0 in d:\\develop\\conda\\envs\\autogen-demo\\lib\\site-packages (from openai>=1.3->pyautogen[websockets]) (1.9.0)\n",
      "Requirement already satisfied: httpx<1,>=0.23.0 in d:\\develop\\conda\\envs\\autogen-demo\\lib\\site-packages (from openai>=1.3->pyautogen[websockets]) (0.27.0)\n",
      "Requirement already satisfied: sniffio in d:\\programdata\\miniconda3\\python312\\site-packages (from openai>=1.3->pyautogen[websockets]) (1.3.1)\n",
      "Requirement already satisfied: tqdm>4 in d:\\programdata\\miniconda3\\python312\\site-packages (from openai>=1.3->pyautogen[websockets]) (4.66.2)\n",
      "Requirement already satisfied: annotated-types>=0.4.0 in d:\\programdata\\miniconda3\\python312\\site-packages (from pydantic!=2.6.0,<3,>=1.10->pyautogen[websockets]) (0.6.0)\n",
      "Requirement already satisfied: pydantic-core==2.16.3 in d:\\programdata\\miniconda3\\python312\\site-packages (from pydantic!=2.6.0,<3,>=1.10->pyautogen[websockets]) (2.16.3)\n",
      "Requirement already satisfied: packaging>=14.0 in d:\\programdata\\miniconda3\\python312\\site-packages (from docker->pyautogen[websockets]) (23.2)\n",
      "Requirement already satisfied: requests>=2.26.0 in d:\\programdata\\miniconda3\\python312\\site-packages (from docker->pyautogen[websockets]) (2.31.0)\n",
      "Requirement already satisfied: urllib3>=1.26.0 in d:\\programdata\\miniconda3\\python312\\site-packages (from docker->pyautogen[websockets]) (2.2.1)\n",
      "Requirement already satisfied: pywin32>=304 in d:\\develop\\conda\\envs\\autogen-demo\\lib\\site-packages (from docker->pyautogen[websockets]) (305.1)\n",
      "Requirement already satisfied: regex>=2022.1.18 in d:\\programdata\\miniconda3\\python312\\site-packages (from tiktoken->pyautogen[websockets]) (2023.12.25)\n",
      "Requirement already satisfied: idna>=2.8 in d:\\programdata\\miniconda3\\python312\\site-packages (from anyio<5,>=3.5.0->openai>=1.3->pyautogen[websockets]) (3.6)\n",
      "Requirement already satisfied: certifi in d:\\programdata\\miniconda3\\python312\\site-packages (from httpx<1,>=0.23.0->openai>=1.3->pyautogen[websockets]) (2024.2.2)\n",
      "Requirement already satisfied: httpcore==1.* in d:\\develop\\conda\\envs\\autogen-demo\\lib\\site-packages (from httpx<1,>=0.23.0->openai>=1.3->pyautogen[websockets]) (1.0.5)\n",
      "Requirement already satisfied: charset-normalizer<4,>=2 in d:\\programdata\\miniconda3\\python312\\site-packages (from requests>=2.26.0->docker->pyautogen[websockets]) (3.3.2)\n",
      "Installing collected packages: websockets\n",
      "Successfully installed websockets-12.0\n"
     ]
    }
   ],
   "source": [
    "!pip install pyautogen[websockets] fastapi uvicorn"
   ]
  },
  {
   "cell_type": "code",
   "execution_count": 5,
   "metadata": {},
   "outputs": [],
   "source": [
    "from datetime import datetime\n",
    "from tempfile import TemporaryDirectory\n",
    "\n",
    "from websockets.sync.client import connect as ws_connect\n",
    "\n",
    "import autogen\n",
    "from autogen.io.websockets import IOWebsockets\n",
    "\n",
    "config_list = autogen.config_list_from_json(\n",
    "    env_or_file=\"OAI_CONFIG_LIST\",\n",
    "    filter_dict={\n",
    "        \"model\": [\"gpt-4o\", \"gpt-4\", \"gpt-3.5-turbo-16k\"],\n",
    "    },\n",
    ")"
   ]
  },
  {
   "cell_type": "markdown",
   "metadata": {},
   "source": [
    "当客户端连接到 websocket 服务器时，服务器会自动初始化 IOWebsockets 类的一个新实例。这个实例对于管理服务器和客户端之间数据流至关重要。 on_connect 函数利用这个实例来设置通信协议，定义交互规则，并执行任何必要的初步数据交换或配置，以确保客户端和服务器之间的交互顺利进行。"
   ]
  },
  {
   "cell_type": "code",
   "execution_count": 6,
   "metadata": {},
   "outputs": [],
   "source": [
    "def on_connect(iostream: IOWebsockets) -> None:\n",
    "    print(f\" - on_connect(): Connected to client using IOWebsockets {iostream}\", flush=True)\n",
    "\n",
    "    print(\" - on_connect(): Receiving message from client.\", flush=True)\n",
    "\n",
    "    # 1. Receive Initial Message\n",
    "    initial_msg = iostream.input()\n",
    "\n",
    "    # 2. Instantiate ConversableAgent\n",
    "    agent = autogen.ConversableAgent(\n",
    "        name=\"chatbot\",\n",
    "        system_message=\"Complete a task given to you and reply TERMINATE when the task is done. If asked about the weather, use tool 'weather_forecast(city)' to get the weather forecast for a city.\",\n",
    "        llm_config={\n",
    "            \"config_list\": autogen.config_list_from_json(\n",
    "                env_or_file=\"OAI_CONFIG_LIST\"              \n",
    "            ),\n",
    "            \"stream\": True,\n",
    "        },\n",
    "    )\n",
    "\n",
    "    # 3. Define UserProxyAgent\n",
    "    user_proxy = autogen.UserProxyAgent(\n",
    "        name=\"user_proxy\",\n",
    "        system_message=\"A proxy for the user.\",\n",
    "        is_termination_msg=lambda x: x.get(\"content\", \"\") and x.get(\"content\", \"\").rstrip().endswith(\"TERMINATE\"),\n",
    "        human_input_mode=\"NEVER\",\n",
    "        max_consecutive_auto_reply=10,\n",
    "        code_execution_config=False,\n",
    "    )\n",
    "\n",
    "    # 4. Define Agent-specific Functions\n",
    "    def weather_forecast(city: str) -> str:\n",
    "        return f\"The weather forecast for {city} at {datetime.now()} is sunny.\"\n",
    "\n",
    "    autogen.register_function(\n",
    "        weather_forecast, caller=agent, executor=user_proxy, description=\"Weather forecast for a city\"\n",
    "    )\n",
    "\n",
    "    # 5. Initiate conversation\n",
    "    print(\n",
    "        f\" - on_connect(): Initiating chat with agent {agent} using message '{initial_msg}'\",\n",
    "        flush=True,\n",
    "    )\n",
    "    user_proxy.initiate_chat(  \n",
    "        agent,\n",
    "        message=initial_msg,\n",
    "    )"
   ]
  },
  {
   "cell_type": "markdown",
   "metadata": {},
   "source": [
    "使用 HTML/JS 客户端测试在 FastAPI 服务器内部运行的 WebSocket 服务器"
   ]
  },
  {
   "cell_type": "code",
   "execution_count": 10,
   "metadata": {},
   "outputs": [],
   "source": [
    "from contextlib import asynccontextmanager  \n",
    "\n",
    "from fastapi import FastAPI  \n",
    "from fastapi.responses import HTMLResponse \n",
    "\n",
    "PORT = 8000\n",
    "\n",
    "html = \"\"\"\n",
    "<!DOCTYPE html>\n",
    "<html>\n",
    "    <head>\n",
    "        <title>Autogen websocket test</title>\n",
    "    </head>\n",
    "    <body>\n",
    "        <h1>WebSocket Chat</h1>\n",
    "        <form action=\"\" onsubmit=\"sendMessage(event)\">\n",
    "            <input type=\"text\" id=\"messageText\" autocomplete=\"off\"/>\n",
    "            <button>Send</button>\n",
    "        </form>\n",
    "        <ul id='messages'>\n",
    "        </ul>\n",
    "        <script>\n",
    "            var ws = new WebSocket(\"ws://127.0.0.1:8080/ws\");\n",
    "            ws.onmessage = function(event) {\n",
    "                var messages = document.getElementById('messages')\n",
    "                var message = document.createElement('li')\n",
    "                var content = document.createTextNode(event.data)\n",
    "                message.appendChild(content)\n",
    "                messages.appendChild(message)\n",
    "            };\n",
    "            function sendMessage(event) {\n",
    "                var input = document.getElementById(\"messageText\")\n",
    "                ws.send(input.value)\n",
    "                input.value = ''\n",
    "                event.preventDefault()\n",
    "            }\n",
    "        </script>\n",
    "    </body>\n",
    "</html>\n",
    "\"\"\"\n",
    "\n",
    "\n",
    "@asynccontextmanager\n",
    "async def run_websocket_server(app):\n",
    "    with IOWebsockets.run_server_in_thread(on_connect=on_connect, port=8080) as uri:\n",
    "        print(f\"Websocket server started at {uri}.\", flush=True)\n",
    "\n",
    "        yield\n",
    "\n",
    "\n",
    "app = FastAPI(lifespan=run_websocket_server)\n",
    "\n",
    "\n",
    "@app.get(\"/\")\n",
    "async def get():\n",
    "    return HTMLResponse(html) "
   ]
  },
  {
   "cell_type": "code",
   "execution_count": 11,
   "metadata": {},
   "outputs": [
    {
     "name": "stderr",
     "output_type": "stream",
     "text": [
      "INFO:     Started server process [25952]\n",
      "INFO:     Waiting for application startup.\n"
     ]
    },
    {
     "name": "stdout",
     "output_type": "stream",
     "text": [
      "Websocket server started at ws://127.0.0.1:8080.\n"
     ]
    },
    {
     "name": "stderr",
     "output_type": "stream",
     "text": [
      "INFO:     Application startup complete.\n",
      "INFO:     Uvicorn running on http://127.0.0.1:8081 (Press CTRL+C to quit)\n"
     ]
    },
    {
     "name": "stdout",
     "output_type": "stream",
     "text": [
      "INFO:     127.0.0.1:64729 - \"GET / HTTP/1.1\" 200 OK\n",
      " - on_connect(): Connected to client using IOWebsockets <autogen.io.websockets.IOWebsockets object at 0x000001CE9F7B6ED0>\n",
      " - on_connect(): Receiving message from client.\n",
      " - on_connect(): Initiating chat with agent <autogen.agentchat.conversable_agent.ConversableAgent object at 0x000001CE9F7B3CE0> using message '你好'\n",
      "Warning: model not found. Using cl100k_base encoding.\n",
      "Warning: model not found. Using cl100k_base encoding.\n",
      "Warning: model not found. Using cl100k_base encoding.\n",
      "Warning: model not found. Using cl100k_base encoding.\n",
      "Warning: model not found. Using cl100k_base encoding.\n",
      "Warning: model not found. Using cl100k_base encoding.\n",
      "Warning: model not found. Using cl100k_base encoding.\n",
      "Warning: model not found. Using cl100k_base encoding.\n",
      "Warning: model not found. Using cl100k_base encoding.\n",
      "Warning: model not found. Using cl100k_base encoding.\n",
      "Warning: model not found. Using cl100k_base encoding.\n"
     ]
    },
    {
     "name": "stderr",
     "output_type": "stream",
     "text": [
      "INFO:     Shutting down\n",
      "INFO:     Waiting for application shutdown.\n",
      "INFO:     Application shutdown complete.\n",
      "INFO:     Finished server process [25952]\n"
     ]
    }
   ],
   "source": [
    "import uvicorn \n",
    "\n",
    "config = uvicorn.Config(app, port=8081)\n",
    "server = uvicorn.Server(config)\n",
    "await server.serve()  "
   ]
  }
 ],
 "metadata": {
  "kernelspec": {
   "display_name": "autogen-demo",
   "language": "python",
   "name": "python3"
  },
  "language_info": {
   "codemirror_mode": {
    "name": "ipython",
    "version": 3
   },
   "file_extension": ".py",
   "mimetype": "text/x-python",
   "name": "python",
   "nbconvert_exporter": "python",
   "pygments_lexer": "ipython3",
   "version": "3.12.2"
  }
 },
 "nbformat": 4,
 "nbformat_minor": 2
}
